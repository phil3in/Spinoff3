{
 "cells": [
  {
   "cell_type": "markdown",
   "metadata": {},
   "source": [
    "# [SPIN OFF #3][MOVIES] Et si on allait ensemble plus loin avec MongoDB ?"
   ]
  },
  {
   "cell_type": "markdown",
   "metadata": {},
   "source": [
    "Après installation de MongoDB, vérification du bon fonctionnement :"
   ]
  },
  {
   "cell_type": "markdown",
   "metadata": {},
   "source": [
    "![console](https://cdn.discordapp.com/attachments/778291355473412107/789109532105244692/unknown.png)"
   ]
  },
  {
   "cell_type": "markdown",
   "metadata": {},
   "source": [
    "La base de données \"test\" a bien été créée."
   ]
  },
  {
   "cell_type": "code",
   "execution_count": 1,
   "metadata": {},
   "outputs": [],
   "source": [
    "# On importe les bibliothèques CSV et PyMongo\n",
    "import csv\n",
    "import pymongo"
   ]
  },
  {
   "cell_type": "code",
   "execution_count": 2,
   "metadata": {},
   "outputs": [],
   "source": [
    "from pymongo import MongoClient\n",
    "# On crée la variable client qui renvoie à nos informations\n",
    "# connexion à MongoDB.\n",
    "client = MongoClient('localhost', 27017)"
   ]
  },
  {
   "cell_type": "code",
   "execution_count": 3,
   "metadata": {},
   "outputs": [],
   "source": [
    "# On crée une nouvelle base de données, FloupicsDB ; sur python, la variable db.\n",
    "db = client['FloupicsDB']"
   ]
  },
  {
   "cell_type": "markdown",
   "metadata": {},
   "source": [
    "Avec MongoDB, une base de données et ses collections (équivalent de tables) ne sont définitivement créées que lorsqu'on y a inséré des données. Donc on ne pourra vérifier la création qu'à la fin."
   ]
  },
  {
   "cell_type": "code",
   "execution_count": 4,
   "metadata": {},
   "outputs": [],
   "source": [
    "# On crée des collections, une pour chaque fichier csv, et on leur donne un nom\n",
    "# de variable sur python.\n",
    "col_movies = db['movies']\n",
    "col_ratings = db['ratings']\n",
    "col_tags = db['tags']\n",
    "col_links = db['links']"
   ]
  },
  {
   "cell_type": "code",
   "execution_count": 5,
   "metadata": {},
   "outputs": [],
   "source": [
    "# On définit une fonction qui lit les fichiers CSV sous forme de liste\n",
    "# de dictionnaires (une liste par ligne), puis insère chaque dictionnaire\n",
    "# comme document dans la collection.\n",
    "def inserer_donnees(nom_fichier, collection):\n",
    "    try:\n",
    "        # On crée une liste vide\n",
    "        data = []\n",
    "        # On ouvre le fichier CSV\n",
    "        with open(nom_fichier, newline='', encoding='UTF-8') as csvfile:\n",
    "            # On déclare une variable correspondant à la lecture par DictReader\n",
    "            reader = csv.DictReader(csvfile)\n",
    "            # On ajoute les données dans la liste data, à chaque fois en rapport\n",
    "            # à la colonne (qui devient clef du dictionnaire)\n",
    "            for row in reader:\n",
    "                data.append(row)\n",
    "            \n",
    "            # Enfin on insère toutes les données dans la collection sélectionnée\n",
    "            db.collection.insert_many(data)\n",
    "            print(\"Insertion effectuée\")\n",
    "    except:\n",
    "        print(\"Erreur : l'insertion n'a pas pu s'effectuer\")"
   ]
  },
  {
   "cell_type": "code",
   "execution_count": 6,
   "metadata": {},
   "outputs": [
    {
     "name": "stdout",
     "output_type": "stream",
     "text": [
      "Insertion effectuée\n"
     ]
    }
   ],
   "source": [
    "inserer_donnees('csvfiles/movies.csv', col_movies)"
   ]
  },
  {
   "cell_type": "code",
   "execution_count": 7,
   "metadata": {},
   "outputs": [
    {
     "name": "stdout",
     "output_type": "stream",
     "text": [
      "Insertion effectuée\n"
     ]
    }
   ],
   "source": [
    "inserer_donnees('csvfiles/ratings.csv', col_ratings)"
   ]
  },
  {
   "cell_type": "code",
   "execution_count": 8,
   "metadata": {},
   "outputs": [
    {
     "name": "stdout",
     "output_type": "stream",
     "text": [
      "Insertion effectuée\n"
     ]
    }
   ],
   "source": [
    "inserer_donnees('csvfiles/tags.csv', col_tags)"
   ]
  },
  {
   "cell_type": "code",
   "execution_count": 9,
   "metadata": {},
   "outputs": [
    {
     "name": "stdout",
     "output_type": "stream",
     "text": [
      "Insertion effectuée\n"
     ]
    }
   ],
   "source": [
    "inserer_donnees('csvfiles/links.csv', col_links)"
   ]
  },
  {
   "cell_type": "markdown",
   "metadata": {},
   "source": [
    "On peut vérifier la création de la base de données avec cette commande :"
   ]
  },
  {
   "cell_type": "code",
   "execution_count": 10,
   "metadata": {},
   "outputs": [
    {
     "name": "stdout",
     "output_type": "stream",
     "text": [
      "['FloupicsDB', 'admin', 'config', 'local', 'test']\n"
     ]
    }
   ],
   "source": [
    "print(client.list_database_names())"
   ]
  },
  {
   "cell_type": "markdown",
   "metadata": {},
   "source": [
    "On peut faire une recherche simple pour vérifier l'insertion des données. Par exemple ici, avec find_one, on renvoie le premier document de la collection movies :"
   ]
  },
  {
   "cell_type": "code",
   "execution_count": 12,
   "metadata": {},
   "outputs": [
    {
     "name": "stdout",
     "output_type": "stream",
     "text": [
      "{'_id': ObjectId('5fdb5dabf450b82f55a3ec82'), 'movieId': '1', 'title': 'Toy Story (1995)', 'genres': 'Adventure|Animation|Children|Comedy|Fantasy'}\n"
     ]
    }
   ],
   "source": [
    "print(col_movies.find_one())"
   ]
  },
  {
   "cell_type": "markdown",
   "metadata": {},
   "source": [
    "On peut aussi voir sur MongoDB Compass que les insertions ont bien été effectuées."
   ]
  },
  {
   "cell_type": "markdown",
   "metadata": {},
   "source": [
    "![compass](https://cdn.discordapp.com/attachments/778291355473412107/789123074905473024/unknown.png)"
   ]
  },
  {
   "cell_type": "markdown",
   "metadata": {},
   "source": [
    "![floupic](https://cdn.discordapp.com/attachments/778291355473412107/789143192955256882/unknown.png)"
   ]
  },
  {
   "cell_type": "code",
   "execution_count": null,
   "metadata": {},
   "outputs": [],
   "source": []
  }
 ],
 "metadata": {
  "kernelspec": {
   "display_name": "Python 3",
   "language": "python",
   "name": "python3"
  },
  "language_info": {
   "codemirror_mode": {
    "name": "ipython",
    "version": 3
   },
   "file_extension": ".py",
   "mimetype": "text/x-python",
   "name": "python",
   "nbconvert_exporter": "python",
   "pygments_lexer": "ipython3",
   "version": "3.8.6"
  }
 },
 "nbformat": 4,
 "nbformat_minor": 4
}
